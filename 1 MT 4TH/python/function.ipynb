{
 "cells": [
  {
   "cell_type": "code",
   "execution_count": null,
   "id": "abd2e880",
   "metadata": {},
   "outputs": [
    {
     "name": "stdout",
     "output_type": "stream",
     "text": [
      "hello from function\n"
     ]
    }
   ],
   "source": [
    "##\n",
    "\n",
    "def hello():\n",
    "    ##block of code \n",
    "    print(\"hello from function\")\n",
    "\n",
    "\n",
    "hello()               #calling a function "
   ]
  },
  {
   "cell_type": "code",
   "execution_count": 7,
   "id": "07296cc6",
   "metadata": {},
   "outputs": [
    {
     "name": "stdout",
     "output_type": "stream",
     "text": [
      "hello my name is  mohan\n"
     ]
    }
   ],
   "source": [
    "##parameters and arguments \n",
    "def name(fname):\n",
    "    print(\"hello my name is \", fname)\n",
    "\n",
    "\n",
    "name(\"mohan\")\n"
   ]
  },
  {
   "cell_type": "code",
   "execution_count": 9,
   "id": "af80093a",
   "metadata": {},
   "outputs": [
    {
     "name": "stdout",
     "output_type": "stream",
     "text": [
      "the youngest child is rohit\n"
     ]
    }
   ],
   "source": [
    "##arbitary arguments -- args--* \n",
    "##jab apan ko nahi pata hota number of arguments kitne paas honge \n",
    "\n",
    "def my_function(*kids):\n",
    "    print(\"the youngest child is \" + kids[2])\n",
    "\n",
    "my_function(\"mohan\",\"rohan\",\"rohit\")"
   ]
  },
  {
   "cell_type": "code",
   "execution_count": 12,
   "id": "2043f23e",
   "metadata": {},
   "outputs": [
    {
     "ename": "TypeError",
     "evalue": "can only concatenate str (not \"int\") to str",
     "output_type": "error",
     "traceback": [
      "\u001b[1;31m---------------------------------------------------------------------------\u001b[0m",
      "\u001b[1;31mTypeError\u001b[0m                                 Traceback (most recent call last)",
      "Cell \u001b[1;32mIn[12], line 2\u001b[0m\n\u001b[0;32m      1\u001b[0m age \u001b[38;5;241m=\u001b[39m \u001b[38;5;241m10\u001b[39m\n\u001b[1;32m----> 2\u001b[0m text \u001b[38;5;241m=\u001b[39m \u001b[38;5;124;43m\"\u001b[39;49m\u001b[38;5;124;43mmy age is\u001b[39;49m\u001b[38;5;124;43m\"\u001b[39;49m\u001b[43m \u001b[49m\u001b[38;5;241;43m+\u001b[39;49m\u001b[43m \u001b[49m\u001b[43mage\u001b[49m\n\u001b[0;32m      4\u001b[0m \u001b[38;5;28mprint\u001b[39m(text)\n",
      "\u001b[1;31mTypeError\u001b[0m: can only concatenate str (not \"int\") to str"
     ]
    }
   ],
   "source": [
    "age = 10\n",
    "text = \"my age is\" + age\n",
    "\n",
    "print(text)"
   ]
  },
  {
   "cell_type": "code",
   "execution_count": 13,
   "id": "19fce0a3",
   "metadata": {},
   "outputs": [
    {
     "name": "stdout",
     "output_type": "stream",
     "text": [
      "my age is 10\n"
     ]
    }
   ],
   "source": [
    "##formatted string //f-string\n",
    "\n",
    "age = 10 \n",
    "text = f\"my age is {age}\"\n",
    "print(text)\n"
   ]
  },
  {
   "cell_type": "code",
   "execution_count": 16,
   "id": "80004d2e",
   "metadata": {},
   "outputs": [
    {
     "name": "stdout",
     "output_type": "stream",
     "text": [
      "the youngest child is mohan\n"
     ]
    }
   ],
   "source": [
    "##keyword arguments -- jaha aap arguments ki value\n",
    "#  as a key value pair paas karte ho \n",
    "\n",
    "def children(child1,child2,child3):\n",
    "    print(\"the youngest child is \" + child2)\n",
    "\n",
    "children(child2=\"mohan\",child1=\"rohan\",child3=\"rohit\")\n"
   ]
  },
  {
   "cell_type": "code",
   "execution_count": 18,
   "id": "b7e2f77e",
   "metadata": {},
   "outputs": [
    {
     "name": "stdout",
     "output_type": "stream",
     "text": [
      "the youngest child is rohan\n"
     ]
    }
   ],
   "source": [
    "##arbitary keyword arguments --kwargs -- **\n",
    "def children(**child):\n",
    "    print(\"the youngest child is \" + child[\"fname\"])\n",
    "\n",
    "children(fname = \"rohan\",lname = \"sharma\")"
   ]
  },
  {
   "cell_type": "code",
   "execution_count": 22,
   "id": "d0a2ca8b",
   "metadata": {},
   "outputs": [
    {
     "name": "stdout",
     "output_type": "stream",
     "text": [
      "my countryy is usa\n"
     ]
    }
   ],
   "source": [
    "##default parameter value \n",
    "\n",
    "def country(name = \"India\"):\n",
    "    print(\"my countryy is\" , name)\n",
    "\n",
    "country(\"usa\")"
   ]
  },
  {
   "cell_type": "code",
   "execution_count": 24,
   "id": "801c6542",
   "metadata": {},
   "outputs": [
    {
     "data": {
      "text/plain": [
       "9.6"
      ]
     },
     "execution_count": 24,
     "metadata": {},
     "output_type": "execute_result"
    }
   ],
   "source": [
    "#avg  == [list]\n",
    "\n",
    "def avg_func(input):\n",
    "    return sum(input)/len(input)\n",
    "\n",
    "avg_func([1,2,34,5,6])"
   ]
  },
  {
   "cell_type": "code",
   "execution_count": 25,
   "id": "063b5a03",
   "metadata": {},
   "outputs": [
    {
     "name": "stdout",
     "output_type": "stream",
     "text": [
      "[1, 4, 9, 16, 25]\n"
     ]
    }
   ],
   "source": [
    "##list ---square -- list \n",
    "lst = [1,2,3,4,5]\n",
    "temp = []\n",
    "for i in lst:\n",
    "    temp.append(i**2)\n",
    "print(temp)\n"
   ]
  },
  {
   "cell_type": "code",
   "execution_count": 27,
   "id": "fb19ca6f",
   "metadata": {},
   "outputs": [
    {
     "name": "stdout",
     "output_type": "stream",
     "text": [
      "10\n"
     ]
    }
   ],
   "source": [
    "##lambda function -- small function -- \n",
    "# mutliple arguments but one expression \n",
    "\n",
    "x = lambda a, b , c : a + b + c \n",
    "print(x(5,2,3))"
   ]
  },
  {
   "cell_type": "code",
   "execution_count": 31,
   "id": "47261c19",
   "metadata": {},
   "outputs": [
    {
     "data": {
      "text/plain": [
       "9"
      ]
     },
     "execution_count": 31,
     "metadata": {},
     "output_type": "execute_result"
    }
   ],
   "source": [
    "def square(input):\n",
    "    return input**2\n",
    "\n",
    "square(3)"
   ]
  },
  {
   "cell_type": "code",
   "execution_count": 34,
   "id": "c5121b0f",
   "metadata": {},
   "outputs": [
    {
     "name": "stdout",
     "output_type": "stream",
     "text": [
      "[4, 9, 16, 25, 4489, 64]\n"
     ]
    }
   ],
   "source": [
    "##map -- (function,iterable )\n",
    "l = [2,3,4,5,67,8]\n",
    "newl = list(map(lambda a :a*a,l))\n",
    "print(newl)"
   ]
  },
  {
   "cell_type": "code",
   "execution_count": 36,
   "id": "f48abbd0",
   "metadata": {},
   "outputs": [
    {
     "name": "stdout",
     "output_type": "stream",
     "text": [
      "[2, 4, 8]\n"
     ]
    }
   ],
   "source": [
    "##filter -- (function,iterable)\n",
    "def ff(a):\n",
    "    return a%2==0\n",
    "l = [2,3,4,5,67,8]\n",
    "newl = list(filter(ff,l))\n",
    "print(newl)\n"
   ]
  },
  {
   "cell_type": "code",
   "execution_count": null,
   "id": "851fea41",
   "metadata": {},
   "outputs": [
    {
     "data": {
      "text/plain": [
       "89"
      ]
     },
     "execution_count": 38,
     "metadata": {},
     "output_type": "execute_result"
    }
   ],
   "source": [
    "##reduce  -- (function , iterable )\n",
    "\n",
    "from functools import reduce\n",
    "\n",
    "l = [2,3,4,5,67,8]\n",
    "newl = reduce(lambda x , y : x+y,l)\n",
    "newl\n",
    "\n",
    "#[5,4,5,67,8] --- [9,5,67,8] ---[]"
   ]
  },
  {
   "cell_type": "code",
   "execution_count": 41,
   "id": "b7f43f9d",
   "metadata": {},
   "outputs": [
    {
     "data": {
      "text/plain": [
       "[(0, 'python'), (1, 'java'), (2, 'c')]"
      ]
     },
     "execution_count": 41,
     "metadata": {},
     "output_type": "execute_result"
    }
   ],
   "source": [
    "##enumerate \n",
    "name = [\"python\",\"java\",\"c\"]\n",
    "enumate_list = list(enumerate(name))\n",
    "enumate_list"
   ]
  },
  {
   "cell_type": "code",
   "execution_count": null,
   "id": "6b7118af",
   "metadata": {},
   "outputs": [],
   "source": []
  }
 ],
 "metadata": {
  "kernelspec": {
   "display_name": "Python 3",
   "language": "python",
   "name": "python3"
  },
  "language_info": {
   "codemirror_mode": {
    "name": "ipython",
    "version": 3
   },
   "file_extension": ".py",
   "mimetype": "text/x-python",
   "name": "python",
   "nbconvert_exporter": "python",
   "pygments_lexer": "ipython3",
   "version": "3.11.9"
  }
 },
 "nbformat": 4,
 "nbformat_minor": 5
}
