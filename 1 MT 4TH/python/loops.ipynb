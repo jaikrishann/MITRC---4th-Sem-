{
 "cells": [
  {
   "cell_type": "code",
   "execution_count": 1,
   "id": "6277811e",
   "metadata": {},
   "outputs": [
    {
     "name": "stdout",
     "output_type": "stream",
     "text": [
      "hello\n",
      "22.34\n",
      "22\n",
      "1\n",
      "True\n"
     ]
    }
   ],
   "source": [
    "##for -- iterating over a seq(string,list,tuple,set,dict)\n",
    "\n",
    "lst = [\"hello\",22.34,22,1,True]\n",
    "\n",
    "for i in lst:\n",
    "    print(i)"
   ]
  },
  {
   "cell_type": "code",
   "execution_count": 2,
   "id": "7ac768b3",
   "metadata": {},
   "outputs": [
    {
     "name": "stdout",
     "output_type": "stream",
     "text": [
      "name upflairs\n",
      "year 2022\n"
     ]
    }
   ],
   "source": [
    "dt = {\n",
    "    \"name\": \"upflairs\",\n",
    "    \"year\" : 2022\n",
    "}\n",
    "\n",
    "for i,y in dt.items():\n",
    "    print(i,y)"
   ]
  },
  {
   "cell_type": "code",
   "execution_count": 3,
   "id": "47eb0560",
   "metadata": {},
   "outputs": [
    {
     "name": "stdout",
     "output_type": "stream",
     "text": [
      "1 red\n",
      "1 black\n",
      "1 white\n",
      "2 red\n",
      "2 black\n",
      "2 white\n",
      "3 red\n",
      "3 black\n",
      "3 white\n"
     ]
    }
   ],
   "source": [
    "##nested loop \n",
    "lst1 = [1,2,3]\n",
    "lst2 = [\"red\",\"black\",\"white\"]\n",
    "\n",
    "for i in lst1:\n",
    "    for j in lst2:\n",
    "        print(i,j)"
   ]
  },
  {
   "cell_type": "code",
   "execution_count": 4,
   "id": "7998b451",
   "metadata": {},
   "outputs": [
    {
     "name": "stdout",
     "output_type": "stream",
     "text": [
      "1\n",
      "2\n",
      "3\n",
      "4\n",
      "5\n",
      "6\n",
      "7\n",
      "8\n",
      "9\n",
      "10\n"
     ]
    }
   ],
   "source": [
    "## while loop \n",
    "i = 1\n",
    "while i<=10:\n",
    "    print(i)\n",
    "    i+=1"
   ]
  },
  {
   "cell_type": "code",
   "execution_count": 5,
   "id": "d5c25e44",
   "metadata": {},
   "outputs": [
    {
     "name": "stdout",
     "output_type": "stream",
     "text": [
      "1\n",
      "2\n",
      "3\n"
     ]
    }
   ],
   "source": [
    "##break \n",
    "i = 1\n",
    "while i<6:\n",
    "    print(i)\n",
    "    if i==3:\n",
    "        break\n",
    "    i+=1"
   ]
  },
  {
   "cell_type": "code",
   "execution_count": 6,
   "id": "b3d89767",
   "metadata": {},
   "outputs": [
    {
     "name": "stdout",
     "output_type": "stream",
     "text": [
      "2\n",
      "4\n",
      "5\n",
      "6\n"
     ]
    }
   ],
   "source": [
    "##continue \n",
    "i = 1\n",
    "while i<6:\n",
    "    i +=1\n",
    "    if i ==3:\n",
    "        continue\n",
    "    print(i)"
   ]
  },
  {
   "cell_type": "code",
   "execution_count": 9,
   "id": "5fdeb2f3",
   "metadata": {},
   "outputs": [
    {
     "name": "stdout",
     "output_type": "stream",
     "text": [
      "10\n",
      "9\n",
      "8\n",
      "7\n",
      "6\n",
      "5\n",
      "4\n",
      "3\n",
      "2\n",
      "1\n",
      "0\n"
     ]
    }
   ],
   "source": [
    "##reverse while loop \n",
    "i = 10\n",
    "while i>=0:\n",
    "    print(i)\n",
    "    i-=1\n"
   ]
  },
  {
   "cell_type": "code",
   "execution_count": 10,
   "id": "e4b75904",
   "metadata": {},
   "outputs": [
    {
     "name": "stdout",
     "output_type": "stream",
     "text": [
      "total iteration  3\n"
     ]
    }
   ],
   "source": [
    "##check how many times a given number can be divided by 3 before \n",
    "# it is less than or equal to 10 \n",
    "\n",
    "count = 0 \n",
    "number = 100\n",
    "while number >10:\n",
    "    number = number /3\n",
    "    count +=1\n",
    "print(\"total iteration \",count)"
   ]
  },
  {
   "cell_type": "code",
   "execution_count": 11,
   "id": "01992571",
   "metadata": {},
   "outputs": [
    {
     "name": "stdout",
     "output_type": "stream",
     "text": [
      "1\n",
      "2\n",
      "3\n",
      "4\n",
      "5\n",
      "6\n",
      "7\n"
     ]
    }
   ],
   "source": [
    "##iterate a list with the help of while loop \n",
    "lst = [1,2,3,4,5,6,7]\n",
    "\n",
    "size = len(lst)\n",
    "i = 0 \n",
    "while i<size:\n",
    "    print(lst[i])\n",
    "    i+=1"
   ]
  },
  {
   "cell_type": "code",
   "execution_count": null,
   "id": "92c57876",
   "metadata": {},
   "outputs": [],
   "source": []
  }
 ],
 "metadata": {
  "kernelspec": {
   "display_name": "Python 3",
   "language": "python",
   "name": "python3"
  },
  "language_info": {
   "codemirror_mode": {
    "name": "ipython",
    "version": 3
   },
   "file_extension": ".py",
   "mimetype": "text/x-python",
   "name": "python",
   "nbconvert_exporter": "python",
   "pygments_lexer": "ipython3",
   "version": "3.11.9"
  }
 },
 "nbformat": 4,
 "nbformat_minor": 5
}
