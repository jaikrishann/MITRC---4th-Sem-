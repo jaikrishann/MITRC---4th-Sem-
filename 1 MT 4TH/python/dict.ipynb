{
 "cells": [
  {
   "cell_type": "code",
   "execution_count": null,
   "id": "f83c9326",
   "metadata": {},
   "outputs": [],
   "source": [
    "##dt -- key value pair ,, order, mutable, "
   ]
  },
  {
   "cell_type": "code",
   "execution_count": 1,
   "id": "c4609b53",
   "metadata": {},
   "outputs": [
    {
     "name": "stdout",
     "output_type": "stream",
     "text": [
      "{'name': 'upflairs', 'year': 2023}\n",
      "<class 'dict'>\n"
     ]
    }
   ],
   "source": [
    "dt = {\n",
    "    \"name\" : \"upflairs\",\n",
    "    \"year\" : 2023,\n",
    "}\n",
    "print(dt)\n",
    "print(type(dt))"
   ]
  },
  {
   "cell_type": "code",
   "execution_count": 3,
   "id": "633457f6",
   "metadata": {},
   "outputs": [],
   "source": [
    "dt[\"name\"] = \"google\""
   ]
  },
  {
   "cell_type": "code",
   "execution_count": 4,
   "id": "111bf047",
   "metadata": {},
   "outputs": [
    {
     "data": {
      "text/plain": [
       "{'name': 'google', 'year': 2023}"
      ]
     },
     "execution_count": 4,
     "metadata": {},
     "output_type": "execute_result"
    }
   ],
   "source": [
    "dt"
   ]
  },
  {
   "cell_type": "code",
   "execution_count": 9,
   "id": "64303145",
   "metadata": {},
   "outputs": [
    {
     "data": {
      "text/plain": [
       "{'name': 'amazon', 'address': 'xyz'}"
      ]
     },
     "execution_count": 9,
     "metadata": {},
     "output_type": "execute_result"
    }
   ],
   "source": [
    "# dt.get(\"name\")\n",
    "# dt.items()\n",
    "# dt.pop(\"name\")\n",
    "# dt.popitem()\n",
    "dt.update({\"name\":\"amazon\",\"address\":\"xyz\"})\n",
    "dt"
   ]
  },
  {
   "cell_type": "code",
   "execution_count": 6,
   "id": "abcf54f9",
   "metadata": {},
   "outputs": [
    {
     "data": {
      "text/plain": [
       "{'name': 'upflairs', 'year': 2023}"
      ]
     },
     "execution_count": 6,
     "metadata": {},
     "output_type": "execute_result"
    }
   ],
   "source": [
    "dt1 = dict(name=\"upflairs\",year=2023)\n",
    "dt1"
   ]
  },
  {
   "cell_type": "code",
   "execution_count": null,
   "id": "24b7cf8c",
   "metadata": {},
   "outputs": [],
   "source": []
  }
 ],
 "metadata": {
  "kernelspec": {
   "display_name": "Python 3",
   "language": "python",
   "name": "python3"
  },
  "language_info": {
   "codemirror_mode": {
    "name": "ipython",
    "version": 3
   },
   "file_extension": ".py",
   "mimetype": "text/x-python",
   "name": "python",
   "nbconvert_exporter": "python",
   "pygments_lexer": "ipython3",
   "version": "3.11.9"
  }
 },
 "nbformat": 4,
 "nbformat_minor": 5
}
