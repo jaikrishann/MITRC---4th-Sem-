{
 "cells": [
  {
   "cell_type": "code",
   "execution_count": null,
   "id": "32525a55",
   "metadata": {},
   "outputs": [],
   "source": [
    "##class , object , inhertiance , poly , encap , abstraction "
   ]
  },
  {
   "cell_type": "code",
   "execution_count": null,
   "id": "9f13f694",
   "metadata": {},
   "outputs": [],
   "source": [
    "##class -- blueprint of objects \n",
    "##objects -- instance of class \n"
   ]
  },
  {
   "cell_type": "code",
   "execution_count": null,
   "id": "e1d0eb8e",
   "metadata": {},
   "outputs": [
    {
     "name": "stdout",
     "output_type": "stream",
     "text": [
      "car name  bmw\n"
     ]
    }
   ],
   "source": [
    "class Car:\n",
    "    # ##class variables \n",
    "    # name = \"xyz\"\n",
    "    # year = 2020\n",
    "\n",
    "    def __init__(self,name,year):\n",
    "        ##instance variables \n",
    "        self.name = name\n",
    "        self.year = year\n",
    "    ##method \n",
    "    def display(self):\n",
    "        print(\"car name \",self.name)\n",
    "\n",
    "obj = Car(\"bmw\",2020)\n",
    "obj.display()"
   ]
  },
  {
   "cell_type": "code",
   "execution_count": null,
   "id": "a4d2bb03",
   "metadata": {},
   "outputs": [],
   "source": [
    "##inheritance == \n",
    "##single , mutiple , multilevell , hei , hyb "
   ]
  },
  {
   "cell_type": "code",
   "execution_count": null,
   "id": "d968fe8c",
   "metadata": {},
   "outputs": [
    {
     "ename": "SyntaxError",
     "evalue": "incomplete input (2546671697.py, line 16)",
     "output_type": "error",
     "traceback": [
      "\u001b[1;36m  Cell \u001b[1;32mIn[5], line 16\u001b[1;36m\u001b[0m\n\u001b[1;33m    class EmployeePersonJob(Employee,Job):\u001b[0m\n\u001b[1;37m                                          ^\u001b[0m\n\u001b[1;31mSyntaxError\u001b[0m\u001b[1;31m:\u001b[0m incomplete input\n"
     ]
    }
   ],
   "source": [
    "##single inheritance \n",
    "class Person:\n",
    "    def __init__(self,name):\n",
    "        self.name = name \n",
    "\n",
    "class Employee(Person):\n",
    "    def __init__(self,name,salary):\n",
    "        super().__init__(name)\n",
    "        self.salary = salary \n",
    "\n",
    "##multiple \n",
    "class Job:\n",
    "    def __init__(self,salary):\n",
    "        self.salary = salary \n",
    "\n",
    "class EmployeePersonJob(Employee,Job):\n",
    "    def __init__(self,name,salary):\n",
    "        Employee.__init__(self,name,salary)\n",
    "        Job.__init__(self,salary)\n",
    "\n",
    "##mutlilevel \n",
    "class Manager(EmployeePersonJob):\n",
    "    def __init__(self,name,salary,department):\n",
    "        EmployeePersonJob.__init__(self,name,salary)\n",
    "        self.department = department\n",
    "\n",
    "##hei\n",
    "class AssistantManager(EmployeePersonJob):\n",
    "    def __init__(self,name,salary,team_size):\n",
    "        EmployeePersonJob.__init__(self,name,salary)\n",
    "        self.team_size = team_size\n",
    "\n",
    "class SeniorManager(Manager,AssistantManager):\n",
    "    def __init__(self,name,salary,team_size,department):\n",
    "        Manager.__init__(self,name,salary,department)\n",
    "        AssistantManager.__init__(self,name,salary,team_size)\n",
    "\n",
    "\n"
   ]
  },
  {
   "cell_type": "code",
   "execution_count": null,
   "id": "050a741b",
   "metadata": {},
   "outputs": [],
   "source": []
  }
 ],
 "metadata": {
  "kernelspec": {
   "display_name": "Python 3",
   "language": "python",
   "name": "python3"
  },
  "language_info": {
   "codemirror_mode": {
    "name": "ipython",
    "version": 3
   },
   "file_extension": ".py",
   "mimetype": "text/x-python",
   "name": "python",
   "nbconvert_exporter": "python",
   "pygments_lexer": "ipython3",
   "version": "3.11.9"
  }
 },
 "nbformat": 4,
 "nbformat_minor": 5
}
