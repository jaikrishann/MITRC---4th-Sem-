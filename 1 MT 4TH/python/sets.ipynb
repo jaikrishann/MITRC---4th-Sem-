{
 "cells": [
  {
   "cell_type": "code",
   "execution_count": 1,
   "id": "e30484aa",
   "metadata": {},
   "outputs": [
    {
     "name": "stdout",
     "output_type": "stream",
     "text": [
      "{'hello', 2, 1}\n",
      "<class 'set'>\n"
     ]
    }
   ],
   "source": [
    "##{} --- unorder, immutable(add, remove ),duplicates not allowed\n",
    "\n",
    "st = {\"hello\",1,2,True,\"hello\"}\n",
    "print(st)\n",
    "print(type(st))"
   ]
  },
  {
   "cell_type": "code",
   "execution_count": null,
   "id": "98571e08",
   "metadata": {},
   "outputs": [],
   "source": [
    "st = {\"red\",\"black\",\"blue\"}\n",
    "st."
   ]
  }
 ],
 "metadata": {
  "kernelspec": {
   "display_name": "Python 3",
   "language": "python",
   "name": "python3"
  },
  "language_info": {
   "codemirror_mode": {
    "name": "ipython",
    "version": 3
   },
   "file_extension": ".py",
   "mimetype": "text/x-python",
   "name": "python",
   "nbconvert_exporter": "python",
   "pygments_lexer": "ipython3",
   "version": "3.11.9"
  }
 },
 "nbformat": 4,
 "nbformat_minor": 5
}
