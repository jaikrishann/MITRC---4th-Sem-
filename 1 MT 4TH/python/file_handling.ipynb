{
 "cells": [
  {
   "cell_type": "code",
   "execution_count": null,
   "id": "2fcd7498",
   "metadata": {},
   "outputs": [],
   "source": [
    "###modes -- \n",
    "# r -- open the file in reading \n",
    "#w -- overwrite \n",
    "#a -- \n",
    "##b - binary files \n",
    "## +  -- read and write \n",
    "\n",
    "##r+ "
   ]
  },
  {
   "cell_type": "code",
   "execution_count": 2,
   "id": "728e0cda",
   "metadata": {},
   "outputs": [
    {
     "name": "stdout",
     "output_type": "stream",
     "text": [
      "hello\n",
      "how are you \n",
      "\n"
     ]
    }
   ],
   "source": [
    "##1 way \n",
    "\n",
    "file = open(\"demo.txt\",\"r\")\n",
    "print(file.read())\n",
    "file.close()"
   ]
  },
  {
   "cell_type": "code",
   "execution_count": 5,
   "id": "8e312229",
   "metadata": {},
   "outputs": [
    {
     "name": "stdout",
     "output_type": "stream",
     "text": [
      "['hello\\n', 'how are you \\n']\n"
     ]
    }
   ],
   "source": [
    "##2 way -- with statement  --- close need nahi hoti \n",
    "\n",
    "with open(\"demo.txt\",\"r\") as file:\n",
    "    print(file.readlines())"
   ]
  },
  {
   "cell_type": "code",
   "execution_count": 6,
   "id": "1b4006dc",
   "metadata": {},
   "outputs": [],
   "source": [
    "##json file \n",
    "import json\n",
    "data = {\n",
    "    \"name\" : \"upflairs\",\n",
    "    \"year\" : 2020\n",
    "}\n",
    "with open (\"data.json\",\"w\") as file:\n",
    "    json.dump(data,file)"
   ]
  },
  {
   "cell_type": "code",
   "execution_count": 7,
   "id": "9decdb84",
   "metadata": {},
   "outputs": [
    {
     "name": "stdout",
     "output_type": "stream",
     "text": [
      "{'name': 'upflairs', 'year': 2020}\n"
     ]
    }
   ],
   "source": [
    "with open(\"data.json\",\"r\") as file:\n",
    "    content = json.load(file)\n",
    "    print(content)"
   ]
  },
  {
   "cell_type": "code",
   "execution_count": null,
   "id": "0de8f3d2",
   "metadata": {},
   "outputs": [],
   "source": [
    "##csv "
   ]
  },
  {
   "cell_type": "code",
   "execution_count": null,
   "id": "7226ec5b",
   "metadata": {},
   "outputs": [],
   "source": []
  }
 ],
 "metadata": {
  "kernelspec": {
   "display_name": "Python 3",
   "language": "python",
   "name": "python3"
  },
  "language_info": {
   "codemirror_mode": {
    "name": "ipython",
    "version": 3
   },
   "file_extension": ".py",
   "mimetype": "text/x-python",
   "name": "python",
   "nbconvert_exporter": "python",
   "pygments_lexer": "ipython3",
   "version": "3.11.9"
  }
 },
 "nbformat": 4,
 "nbformat_minor": 5
}
