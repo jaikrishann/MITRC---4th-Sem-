{
 "cells": [
  {
   "cell_type": "code",
   "execution_count": null,
   "id": "350d7a0f",
   "metadata": {},
   "outputs": [],
   "source": [
    "##modules vs package vs lib\n",
    "##built in --os,datetime,re ,, user def ,, third party-- pandas , "
   ]
  },
  {
   "cell_type": "code",
   "execution_count": 1,
   "id": "2d7dda0c",
   "metadata": {},
   "outputs": [
    {
     "data": {
      "text/plain": [
       "'c:\\\\Users\\\\jaikr\\\\OneDrive\\\\Desktop\\\\1 MT 4TH'"
      ]
     },
     "execution_count": 1,
     "metadata": {},
     "output_type": "execute_result"
    }
   ],
   "source": [
    "import os \n",
    "\n",
    "os.getcwd()"
   ]
  },
  {
   "cell_type": "code",
   "execution_count": 3,
   "id": "141cc8dd",
   "metadata": {},
   "outputs": [
    {
     "data": {
      "text/plain": [
       "['basic.py',\n",
       " 'dict.ipynb',\n",
       " 'function.ipynb',\n",
       " 'if_else.ipynb',\n",
       " 'loops.ipynb',\n",
       " 'lst.py',\n",
       " 'modules.ipynb',\n",
       " 'sets.ipynb',\n",
       " 'tpl.ipynb']"
      ]
     },
     "execution_count": 3,
     "metadata": {},
     "output_type": "execute_result"
    }
   ],
   "source": [
    "os.listdir()"
   ]
  },
  {
   "cell_type": "code",
   "execution_count": 7,
   "id": "3559ea79",
   "metadata": {},
   "outputs": [],
   "source": [
    "os.chdir(r\"c:\\\\Users\\\\jaikr\\\\OneDrive\\\\Desktop\\\\1 MT 4TH\")"
   ]
  },
  {
   "cell_type": "code",
   "execution_count": 8,
   "id": "4a318092",
   "metadata": {},
   "outputs": [
    {
     "data": {
      "text/plain": [
       "'c:\\\\Users\\\\jaikr\\\\OneDrive\\\\Desktop\\\\1 MT 4TH'"
      ]
     },
     "execution_count": 8,
     "metadata": {},
     "output_type": "execute_result"
    }
   ],
   "source": [
    "os.getcwd()"
   ]
  },
  {
   "cell_type": "code",
   "execution_count": 10,
   "id": "da6878b2",
   "metadata": {},
   "outputs": [],
   "source": [
    "# os.mkdir(\"test1\")\n",
    "os.makedirs(\"parentf/childf\")"
   ]
  },
  {
   "cell_type": "code",
   "execution_count": null,
   "id": "e591f6bc",
   "metadata": {},
   "outputs": [],
   "source": [
    "os.rmdir(\"test1\")      #removes an empty folder "
   ]
  },
  {
   "cell_type": "code",
   "execution_count": 12,
   "id": "ed91eab9",
   "metadata": {},
   "outputs": [
    {
     "data": {
      "text/plain": [
       "46"
      ]
     },
     "execution_count": 12,
     "metadata": {},
     "output_type": "execute_result"
    }
   ],
   "source": [
    "from lst import addd\n",
    "\n",
    "\n",
    "addd(12,34)"
   ]
  },
  {
   "cell_type": "code",
   "execution_count": null,
   "id": "f5605b77",
   "metadata": {},
   "outputs": [],
   "source": []
  }
 ],
 "metadata": {
  "kernelspec": {
   "display_name": "Python 3",
   "language": "python",
   "name": "python3"
  },
  "language_info": {
   "codemirror_mode": {
    "name": "ipython",
    "version": 3
   },
   "file_extension": ".py",
   "mimetype": "text/x-python",
   "name": "python",
   "nbconvert_exporter": "python",
   "pygments_lexer": "ipython3",
   "version": "3.11.9"
  }
 },
 "nbformat": 4,
 "nbformat_minor": 5
}
